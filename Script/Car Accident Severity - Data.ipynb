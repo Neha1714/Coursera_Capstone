{
 "cells": [
  {
   "cell_type": "markdown",
   "metadata": {},
   "source": [
    "# Capstone Project - Car Accident Severity"
   ]
  },
  {
   "cell_type": "markdown",
   "metadata": {},
   "source": [
    "## Data"
   ]
  },
  {
   "cell_type": "markdown",
   "metadata": {},
   "source": [
    "The data is from Seattle city, SDOT Traffic Management Division. It contains a database of all the accidents that happened since 2004 to present. It has 37 attributes and 194674 observations of data. The key target variable is Severity Code which is defined as below:\n",
    "\n",
    "1 - Property Damage only collision \\ \n",
    "2 – Injury collision\n",
    "\n",
    "The next step is choosing right attributes to use from the dataset. The columns that I choose to predict SEVERITYCODE are WEATHER - which describes the weather at the time of collision, ROADCOND - which describes the condition of the road at the time of collision, VEHCOUNT -  which describes the number of vehicles involved in the collision, JUNCTIONTYPE - which describes the category of junction at which collision took place, LIGHTCOND - which describes the light conditions during the collision, SPEEDING - which describes whether or not speeding was a factor in the collision (Y/N) and UNDERINF - which describes whether the driver was under the influence.\n",
    "\n",
    "This database will be split in a test set as well as training set. The training set will be used to create different models using the techniques and then the test set will be used to predict the accuracy of each of the model.\n",
    "\n",
    "The model with the highest accuracy will be chosen as the final model and can be used to predict the severity.\n"
   ]
  }
 ],
 "metadata": {
  "kernelspec": {
   "display_name": "Python",
   "language": "python",
   "name": "conda-env-python-py"
  },
  "language_info": {
   "codemirror_mode": {
    "name": "ipython",
    "version": 3
   },
   "file_extension": ".py",
   "mimetype": "text/x-python",
   "name": "python",
   "nbconvert_exporter": "python",
   "pygments_lexer": "ipython3",
   "version": "3.6.11"
  }
 },
 "nbformat": 4,
 "nbformat_minor": 4
}
